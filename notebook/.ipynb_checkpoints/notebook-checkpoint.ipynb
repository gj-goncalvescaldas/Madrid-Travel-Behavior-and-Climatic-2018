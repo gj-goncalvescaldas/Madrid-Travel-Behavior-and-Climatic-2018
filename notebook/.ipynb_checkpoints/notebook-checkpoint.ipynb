{
 "cells": [
  {
   "cell_type": "code",
   "execution_count": 2,
   "id": "b658f300",
   "metadata": {},
   "outputs": [],
   "source": [
    "import pandas as pd\n",
    "\n",
    "# Carregar os dados\n",
    "data_path = '../data/madrid_transportation.csv'\n",
    "df = pd.read_csv(data_path)"
   ]
  },
  {
   "cell_type": "code",
   "execution_count": 4,
   "id": "6d742f28",
   "metadata": {
    "scrolled": true
   },
   "outputs": [
    {
     "name": "stdout",
     "output_type": "stream",
     "text": [
      "Primeras lineas del DataFrame:\n",
      "  mode_main   distance              main_reason  week_day           age  \\\n",
      "0        pt   2.960920                 shopping         4         25-34   \n",
      "1        pt  25.421400                commuting         4         25-34   \n",
      "2       car  32.487500  taking_bringing_persons         4         45-54   \n",
      "3       car  32.487500                commuting         4  less than 18   \n",
      "4      walk   0.859224                    other         1         65-74   \n",
      "\n",
      "  education  female  license      main_activity  cars  temp  precip  wind  \n",
      "0    middle       1        1         unemployed     1  20.0     0.0   1.1  \n",
      "1     lower       0        1           employee     1  20.0     0.0   1.1  \n",
      "2     lower       1        0   family caregiver     0  20.0     0.0   1.1  \n",
      "3     lower       1        0            student     0  20.0     0.0   1.1  \n",
      "4     lower       0        1  retired/pensioner     1  14.9     0.0   1.7  \n"
     ]
    }
   ],
   "source": [
    "print(\"Primeras lineas del DataFrame:\")\n",
    "print(df.head())"
   ]
  },
  {
   "cell_type": "code",
   "execution_count": 6,
   "id": "43deaa6b",
   "metadata": {},
   "outputs": [
    {
     "name": "stdout",
     "output_type": "stream",
     "text": [
      "<class 'pandas.core.frame.DataFrame'>\n",
      "RangeIndex: 44427 entries, 0 to 44426\n",
      "Data columns (total 13 columns):\n",
      " #   Column         Non-Null Count  Dtype  \n",
      "---  ------         --------------  -----  \n",
      " 0   mode_main      44427 non-null  object \n",
      " 1   distance       44427 non-null  float64\n",
      " 2   main_reason    44427 non-null  object \n",
      " 3   week_day       44427 non-null  int64  \n",
      " 4   age            44427 non-null  object \n",
      " 5   education      44427 non-null  object \n",
      " 6   female         44427 non-null  int64  \n",
      " 7   license        44427 non-null  int64  \n",
      " 8   main_activity  44427 non-null  object \n",
      " 9   cars           44427 non-null  int64  \n",
      " 10  temp           44427 non-null  float64\n",
      " 11  precip         44427 non-null  float64\n",
      " 12  wind           44427 non-null  float64\n",
      "dtypes: float64(4), int64(4), object(5)\n",
      "memory usage: 4.4+ MB\n",
      "None\n"
     ]
    }
   ],
   "source": [
    "print(df.info())"
   ]
  },
  {
   "cell_type": "code",
   "execution_count": 7,
   "id": "bc45e5e9",
   "metadata": {},
   "outputs": [
    {
     "name": "stdout",
     "output_type": "stream",
     "text": [
      "           distance      week_day        female       license          cars  \\\n",
      "count  44427.000000  44427.000000  44427.000000  44427.000000  44427.000000   \n",
      "mean       7.158435      2.742611      0.540347      0.659149      0.663335   \n",
      "std       17.738325      1.194457      0.498375      0.474001      0.472574   \n",
      "min        0.005216      1.000000      0.000000      0.000000      0.000000   \n",
      "25%        0.753561      2.000000      0.000000      0.000000      0.000000   \n",
      "50%        2.442590      3.000000      1.000000      1.000000      1.000000   \n",
      "75%        7.818475      4.000000      1.000000      1.000000      1.000000   \n",
      "max      490.540000      4.000000      1.000000      1.000000      1.000000   \n",
      "\n",
      "               temp        precip          wind  \n",
      "count  44427.000000  44427.000000  44427.000000  \n",
      "mean      17.810861      3.560686      1.269194  \n",
      "std        2.096947      7.603081      0.929680  \n",
      "min       14.400000      0.000000      0.000000  \n",
      "25%       15.900000      0.000000      0.000000  \n",
      "50%       18.400000      0.100000      1.400000  \n",
      "75%       19.000000      2.400000      1.900000  \n",
      "max       21.700000     28.900000      3.100000  \n"
     ]
    }
   ],
   "source": [
    "print(df.describe())"
   ]
  },
  {
   "cell_type": "code",
   "execution_count": 8,
   "id": "1b761490",
   "metadata": {},
   "outputs": [
    {
     "name": "stdout",
     "output_type": "stream",
     "text": [
      "Index(['mode_main', 'distance', 'main_reason', 'week_day', 'age', 'education',\n",
      "       'female', 'license', 'main_activity', 'cars', 'temp', 'precip', 'wind'],\n",
      "      dtype='object')\n"
     ]
    }
   ],
   "source": [
    "print(df.columns)"
   ]
  },
  {
   "cell_type": "code",
   "execution_count": 5,
   "id": "00decb65",
   "metadata": {},
   "outputs": [
    {
     "name": "stdout",
     "output_type": "stream",
     "text": [
      "\n",
      "Valores ausentes por coluna:\n",
      "mode_main        0\n",
      "distance         0\n",
      "main_reason      0\n",
      "week_day         0\n",
      "age              0\n",
      "education        0\n",
      "female           0\n",
      "license          0\n",
      "main_activity    0\n",
      "cars             0\n",
      "temp             0\n",
      "precip           0\n",
      "wind             0\n",
      "dtype: int64\n"
     ]
    }
   ],
   "source": [
    "print(\"\\nValores ausentes por coluna:\")\n",
    "print(df.isnull().sum())"
   ]
  },
  {
   "cell_type": "code",
   "execution_count": 10,
   "id": "fb3aaf32",
   "metadata": {},
   "outputs": [
    {
     "name": "stdout",
     "output_type": "stream",
     "text": [
      "0\n"
     ]
    }
   ],
   "source": [
    "print(df.duplicated().sum())\n",
    "df = df.drop_duplicates()"
   ]
  },
  {
   "cell_type": "code",
   "execution_count": null,
   "id": "cb3ff2b5",
   "metadata": {},
   "outputs": [],
   "source": []
  },
  {
   "cell_type": "code",
   "execution_count": null,
   "id": "1b1e39f8",
   "metadata": {},
   "outputs": [],
   "source": []
  },
  {
   "cell_type": "code",
   "execution_count": null,
   "id": "1c26e5e8",
   "metadata": {},
   "outputs": [],
   "source": []
  },
  {
   "cell_type": "code",
   "execution_count": null,
   "id": "ec5d7cde",
   "metadata": {},
   "outputs": [],
   "source": []
  },
  {
   "cell_type": "code",
   "execution_count": null,
   "id": "9ac28526",
   "metadata": {},
   "outputs": [],
   "source": []
  },
  {
   "cell_type": "code",
   "execution_count": null,
   "id": "9204cdef",
   "metadata": {},
   "outputs": [],
   "source": []
  },
  {
   "cell_type": "code",
   "execution_count": null,
   "id": "5073119f",
   "metadata": {},
   "outputs": [],
   "source": [
    "bbb"
   ]
  }
 ],
 "metadata": {
  "kernelspec": {
   "display_name": "Python 3 (ipykernel)",
   "language": "python",
   "name": "python3"
  },
  "language_info": {
   "codemirror_mode": {
    "name": "ipython",
    "version": 3
   },
   "file_extension": ".py",
   "mimetype": "text/x-python",
   "name": "python",
   "nbconvert_exporter": "python",
   "pygments_lexer": "ipython3",
   "version": "3.11.4"
  }
 },
 "nbformat": 4,
 "nbformat_minor": 5
}
